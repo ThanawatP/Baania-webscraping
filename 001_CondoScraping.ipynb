{
 "cells": [
  {
   "cell_type": "code",
   "execution_count": 1,
   "metadata": {},
   "outputs": [],
   "source": [
    "import urllib\n",
    "from bs4 import BeautifulSoup\n",
    "import pickle as pk\n",
    "\n"
   ]
  },
  {
   "cell_type": "markdown",
   "metadata": {},
   "source": [
    "## บ้านแต่ละหน้าถูกเก็บไว้ใน link ด้านล่าง\n",
    "<img src = \"Pic_data/PJ-02_MainPage.png\">"
   ]
  },
  {
   "cell_type": "code",
   "execution_count": 13,
   "metadata": {
    "scrolled": true
   },
   "outputs": [
    {
     "name": "stdout",
     "output_type": "stream",
     "text": [
      "https://baania.com/en/projects?page=67&ptype=2&province=3781&stype=resale-project\n"
     ]
    }
   ],
   "source": [
    "#Bangkok, NewCondo\n",
    "QuotePageList = [\n",
    "'https://baania.com/en/projects?ptype=2&province=3781&stype=resale-project'      \n",
    "]\n",
    "#check หน้าเวบ, หน้าสุดท้ายคือ page=19\n",
    "#loop page1-19, append url เข้าไปใน QuotePageList\n",
    "\n",
    "for i in range(1,68):\n",
    "    qp=\"https://baania.com/en/projects?page=\"+str(i)+\"&ptype=2&province=3781&stype=resale-project\"\n",
    "    QuotePageList.append(qp)\n",
    "print(QuotePageList[-1])"
   ]
  },
  {
   "cell_type": "markdown",
   "metadata": {},
   "source": [
    "## ดึง link มาเก็บไว้ก่อนจากทุกๆหน้า\n",
    "\n",
    "<img src = \"Pic_data/PJ-02_HTMLlink.png\">"
   ]
  },
  {
   "cell_type": "code",
   "execution_count": 14,
   "metadata": {},
   "outputs": [
    {
     "name": "stdout",
     "output_type": "stream",
     "text": [
      "----------------- Current Page is -----------------\n",
      "https://baania.com/en/projects?ptype=2&province=3781&stype=resale-project\n",
      "Number of house inside this page is = 18\n",
      "----------------- Current Page is -----------------\n",
      "https://baania.com/en/projects?page=1&ptype=2&province=3781&stype=resale-project\n",
      "Number of house inside this page is = 18\n",
      "----------------- Current Page is -----------------\n",
      "https://baania.com/en/projects?page=2&ptype=2&province=3781&stype=resale-project\n",
      "Number of house inside this page is = 18\n",
      "----------------- Current Page is -----------------\n",
      "https://baania.com/en/projects?page=3&ptype=2&province=3781&stype=resale-project\n",
      "Number of house inside this page is = 18\n",
      "----------------- Current Page is -----------------\n",
      "https://baania.com/en/projects?page=4&ptype=2&province=3781&stype=resale-project\n",
      "Number of house inside this page is = 18\n",
      "----------------- Current Page is -----------------\n",
      "https://baania.com/en/projects?page=5&ptype=2&province=3781&stype=resale-project\n",
      "Number of house inside this page is = 18\n",
      "----------------- Current Page is -----------------\n",
      "https://baania.com/en/projects?page=6&ptype=2&province=3781&stype=resale-project\n",
      "Number of house inside this page is = 18\n",
      "----------------- Current Page is -----------------\n",
      "https://baania.com/en/projects?page=7&ptype=2&province=3781&stype=resale-project\n",
      "Number of house inside this page is = 18\n",
      "----------------- Current Page is -----------------\n",
      "https://baania.com/en/projects?page=8&ptype=2&province=3781&stype=resale-project\n",
      "Number of house inside this page is = 18\n",
      "----------------- Current Page is -----------------\n",
      "https://baania.com/en/projects?page=9&ptype=2&province=3781&stype=resale-project\n",
      "Number of house inside this page is = 18\n",
      "----------------- Current Page is -----------------\n",
      "https://baania.com/en/projects?page=10&ptype=2&province=3781&stype=resale-project\n",
      "Number of house inside this page is = 18\n",
      "----------------- Current Page is -----------------\n",
      "https://baania.com/en/projects?page=11&ptype=2&province=3781&stype=resale-project\n",
      "Number of house inside this page is = 18\n",
      "----------------- Current Page is -----------------\n",
      "https://baania.com/en/projects?page=12&ptype=2&province=3781&stype=resale-project\n",
      "Number of house inside this page is = 18\n",
      "----------------- Current Page is -----------------\n",
      "https://baania.com/en/projects?page=13&ptype=2&province=3781&stype=resale-project\n",
      "Number of house inside this page is = 18\n",
      "----------------- Current Page is -----------------\n",
      "https://baania.com/en/projects?page=14&ptype=2&province=3781&stype=resale-project\n",
      "Number of house inside this page is = 18\n",
      "----------------- Current Page is -----------------\n",
      "https://baania.com/en/projects?page=15&ptype=2&province=3781&stype=resale-project\n",
      "Number of house inside this page is = 18\n",
      "----------------- Current Page is -----------------\n",
      "https://baania.com/en/projects?page=16&ptype=2&province=3781&stype=resale-project\n",
      "Number of house inside this page is = 18\n",
      "----------------- Current Page is -----------------\n",
      "https://baania.com/en/projects?page=17&ptype=2&province=3781&stype=resale-project\n",
      "Number of house inside this page is = 18\n",
      "----------------- Current Page is -----------------\n",
      "https://baania.com/en/projects?page=18&ptype=2&province=3781&stype=resale-project\n",
      "Number of house inside this page is = 18\n",
      "----------------- Current Page is -----------------\n",
      "https://baania.com/en/projects?page=19&ptype=2&province=3781&stype=resale-project\n",
      "Number of house inside this page is = 18\n",
      "----------------- Current Page is -----------------\n",
      "https://baania.com/en/projects?page=20&ptype=2&province=3781&stype=resale-project\n",
      "Number of house inside this page is = 18\n",
      "----------------- Current Page is -----------------\n",
      "https://baania.com/en/projects?page=21&ptype=2&province=3781&stype=resale-project\n",
      "Number of house inside this page is = 18\n",
      "----------------- Current Page is -----------------\n",
      "https://baania.com/en/projects?page=22&ptype=2&province=3781&stype=resale-project\n",
      "Number of house inside this page is = 18\n",
      "----------------- Current Page is -----------------\n",
      "https://baania.com/en/projects?page=23&ptype=2&province=3781&stype=resale-project\n",
      "Number of house inside this page is = 18\n",
      "----------------- Current Page is -----------------\n",
      "https://baania.com/en/projects?page=24&ptype=2&province=3781&stype=resale-project\n",
      "Number of house inside this page is = 18\n",
      "----------------- Current Page is -----------------\n",
      "https://baania.com/en/projects?page=25&ptype=2&province=3781&stype=resale-project\n",
      "Number of house inside this page is = 18\n",
      "----------------- Current Page is -----------------\n",
      "https://baania.com/en/projects?page=26&ptype=2&province=3781&stype=resale-project\n",
      "Number of house inside this page is = 18\n",
      "----------------- Current Page is -----------------\n",
      "https://baania.com/en/projects?page=27&ptype=2&province=3781&stype=resale-project\n",
      "Number of house inside this page is = 18\n",
      "----------------- Current Page is -----------------\n",
      "https://baania.com/en/projects?page=28&ptype=2&province=3781&stype=resale-project\n",
      "Number of house inside this page is = 18\n",
      "----------------- Current Page is -----------------\n",
      "https://baania.com/en/projects?page=29&ptype=2&province=3781&stype=resale-project\n",
      "Number of house inside this page is = 18\n",
      "----------------- Current Page is -----------------\n",
      "https://baania.com/en/projects?page=30&ptype=2&province=3781&stype=resale-project\n",
      "Number of house inside this page is = 18\n",
      "----------------- Current Page is -----------------\n",
      "https://baania.com/en/projects?page=31&ptype=2&province=3781&stype=resale-project\n",
      "Number of house inside this page is = 18\n",
      "----------------- Current Page is -----------------\n",
      "https://baania.com/en/projects?page=32&ptype=2&province=3781&stype=resale-project\n",
      "Number of house inside this page is = 18\n",
      "----------------- Current Page is -----------------\n",
      "https://baania.com/en/projects?page=33&ptype=2&province=3781&stype=resale-project\n",
      "Number of house inside this page is = 18\n",
      "----------------- Current Page is -----------------\n",
      "https://baania.com/en/projects?page=34&ptype=2&province=3781&stype=resale-project\n",
      "Number of house inside this page is = 18\n",
      "----------------- Current Page is -----------------\n",
      "https://baania.com/en/projects?page=35&ptype=2&province=3781&stype=resale-project\n",
      "Number of house inside this page is = 18\n",
      "----------------- Current Page is -----------------\n",
      "https://baania.com/en/projects?page=36&ptype=2&province=3781&stype=resale-project\n",
      "Number of house inside this page is = 18\n",
      "----------------- Current Page is -----------------\n",
      "https://baania.com/en/projects?page=37&ptype=2&province=3781&stype=resale-project\n",
      "Number of house inside this page is = 18\n",
      "----------------- Current Page is -----------------\n",
      "https://baania.com/en/projects?page=38&ptype=2&province=3781&stype=resale-project\n",
      "Number of house inside this page is = 18\n",
      "----------------- Current Page is -----------------\n",
      "https://baania.com/en/projects?page=39&ptype=2&province=3781&stype=resale-project\n",
      "Number of house inside this page is = 18\n",
      "----------------- Current Page is -----------------\n",
      "https://baania.com/en/projects?page=40&ptype=2&province=3781&stype=resale-project\n",
      "Number of house inside this page is = 18\n",
      "----------------- Current Page is -----------------\n",
      "https://baania.com/en/projects?page=41&ptype=2&province=3781&stype=resale-project\n",
      "Number of house inside this page is = 18\n",
      "----------------- Current Page is -----------------\n",
      "https://baania.com/en/projects?page=42&ptype=2&province=3781&stype=resale-project\n",
      "Number of house inside this page is = 18\n",
      "----------------- Current Page is -----------------\n",
      "https://baania.com/en/projects?page=43&ptype=2&province=3781&stype=resale-project\n",
      "Number of house inside this page is = 18\n",
      "----------------- Current Page is -----------------\n",
      "https://baania.com/en/projects?page=44&ptype=2&province=3781&stype=resale-project\n",
      "Number of house inside this page is = 18\n",
      "----------------- Current Page is -----------------\n",
      "https://baania.com/en/projects?page=45&ptype=2&province=3781&stype=resale-project\n",
      "Number of house inside this page is = 18\n",
      "----------------- Current Page is -----------------\n",
      "https://baania.com/en/projects?page=46&ptype=2&province=3781&stype=resale-project\n",
      "Number of house inside this page is = 18\n",
      "----------------- Current Page is -----------------\n",
      "https://baania.com/en/projects?page=47&ptype=2&province=3781&stype=resale-project\n"
     ]
    },
    {
     "name": "stdout",
     "output_type": "stream",
     "text": [
      "Number of house inside this page is = 18\n",
      "----------------- Current Page is -----------------\n",
      "https://baania.com/en/projects?page=48&ptype=2&province=3781&stype=resale-project\n",
      "Number of house inside this page is = 18\n",
      "----------------- Current Page is -----------------\n",
      "https://baania.com/en/projects?page=49&ptype=2&province=3781&stype=resale-project\n",
      "Number of house inside this page is = 18\n",
      "----------------- Current Page is -----------------\n",
      "https://baania.com/en/projects?page=50&ptype=2&province=3781&stype=resale-project\n",
      "Number of house inside this page is = 18\n",
      "----------------- Current Page is -----------------\n",
      "https://baania.com/en/projects?page=51&ptype=2&province=3781&stype=resale-project\n",
      "Number of house inside this page is = 18\n",
      "----------------- Current Page is -----------------\n",
      "https://baania.com/en/projects?page=52&ptype=2&province=3781&stype=resale-project\n",
      "Number of house inside this page is = 18\n",
      "----------------- Current Page is -----------------\n",
      "https://baania.com/en/projects?page=53&ptype=2&province=3781&stype=resale-project\n",
      "Number of house inside this page is = 18\n",
      "----------------- Current Page is -----------------\n",
      "https://baania.com/en/projects?page=54&ptype=2&province=3781&stype=resale-project\n",
      "Number of house inside this page is = 18\n",
      "----------------- Current Page is -----------------\n",
      "https://baania.com/en/projects?page=55&ptype=2&province=3781&stype=resale-project\n",
      "Number of house inside this page is = 18\n",
      "----------------- Current Page is -----------------\n",
      "https://baania.com/en/projects?page=56&ptype=2&province=3781&stype=resale-project\n",
      "Number of house inside this page is = 18\n",
      "----------------- Current Page is -----------------\n",
      "https://baania.com/en/projects?page=57&ptype=2&province=3781&stype=resale-project\n",
      "Number of house inside this page is = 18\n",
      "----------------- Current Page is -----------------\n",
      "https://baania.com/en/projects?page=58&ptype=2&province=3781&stype=resale-project\n",
      "Number of house inside this page is = 18\n",
      "----------------- Current Page is -----------------\n",
      "https://baania.com/en/projects?page=59&ptype=2&province=3781&stype=resale-project\n",
      "Number of house inside this page is = 18\n",
      "----------------- Current Page is -----------------\n",
      "https://baania.com/en/projects?page=60&ptype=2&province=3781&stype=resale-project\n",
      "Number of house inside this page is = 18\n",
      "----------------- Current Page is -----------------\n",
      "https://baania.com/en/projects?page=61&ptype=2&province=3781&stype=resale-project\n",
      "Number of house inside this page is = 18\n",
      "----------------- Current Page is -----------------\n",
      "https://baania.com/en/projects?page=62&ptype=2&province=3781&stype=resale-project\n",
      "Number of house inside this page is = 18\n",
      "----------------- Current Page is -----------------\n",
      "https://baania.com/en/projects?page=63&ptype=2&province=3781&stype=resale-project\n",
      "Number of house inside this page is = 18\n",
      "----------------- Current Page is -----------------\n",
      "https://baania.com/en/projects?page=64&ptype=2&province=3781&stype=resale-project\n",
      "Number of house inside this page is = 18\n",
      "----------------- Current Page is -----------------\n",
      "https://baania.com/en/projects?page=65&ptype=2&province=3781&stype=resale-project\n",
      "Number of house inside this page is = 18\n",
      "----------------- Current Page is -----------------\n",
      "https://baania.com/en/projects?page=66&ptype=2&province=3781&stype=resale-project\n",
      "Number of house inside this page is = 18\n",
      "----------------- Current Page is -----------------\n",
      "https://baania.com/en/projects?page=67&ptype=2&province=3781&stype=resale-project\n",
      "Number of house inside this page is = 5\n",
      "Program Completed\n"
     ]
    }
   ],
   "source": [
    "import time\n",
    "\n",
    "HouseLinkList = [] # To collect link list\n",
    "\n",
    "for QuotePage in QuotePageList:\n",
    "    print('----------------- Current Page is -----------------')\n",
    "    print(QuotePage)\n",
    "    \n",
    "    Page = urllib.request.urlopen(QuotePage)\n",
    "    Soup = BeautifulSoup(Page, 'html.parser')\n",
    "\n",
    "    MainTag = Soup.find('ul', attrs={'data-ls-event': 'scroll'})\n",
    "\n",
    "    LinkTagList = MainTag.findAll('h3', attrs={'class': 'header-title'})\n",
    "\n",
    "    print('Number of house inside this page is = ' + str(len(LinkTagList)))\n",
    "\n",
    "\n",
    "    for LinkTag in LinkTagList:\n",
    "        Link = LinkTag.find('a').get('href') # อันนี้คือ keyword ของการดึง href จาก Tag (link ของแต่ละ Condo)\n",
    "        HouseLinkList.append(Link)\n",
    "    time.sleep(.15)\n",
    "\n",
    "    \n",
    "print('Program Completed')"
   ]
  },
  {
   "cell_type": "code",
   "execution_count": 15,
   "metadata": {},
   "outputs": [
    {
     "name": "stdout",
     "output_type": "stream",
     "text": [
      "https://baania.com/en/project/%E0%B9%80%E0%B8%8B%E0%B9%87%E0%B8%99%E0%B8%97%E0%B8%A3%E0%B8%B4%E0%B8%84-%E0%B8%AB%E0%B9%89%E0%B8%A7%E0%B8%A2%E0%B8%82%E0%B8%A7%E0%B8%B2%E0%B8%87-%E0%B8%AA%E0%B9%80%E0%B8%95%E0%B8%8A%E0%B8%B1%E0%B9%88%E0%B8%99?s=search&pid=BKK0605&province=3781&district=4000&ptype=2\n",
      "https://baania.com/en/project/%E0%B9%80%E0%B8%A5%E0%B8%AD-%E0%B9%82%E0%B8%A1%E0%B8%99%E0%B8%B2%E0%B9%82%E0%B8%84-%E0%B9%80%E0%B8%A3%E0%B8%AA%E0%B8%8B%E0%B8%B4%E0%B9%80%E0%B8%94%E0%B9%89%E0%B8%99%E0%B8%97%E0%B9%8C?s=search&pid=BKK1141&province=3781&district=3911&ptype=2\n"
     ]
    }
   ],
   "source": [
    "print(HouseLinkList[0])\n",
    "print(HouseLinkList[11])"
   ]
  },
  {
   "cell_type": "code",
   "execution_count": 16,
   "metadata": {},
   "outputs": [
    {
     "name": "stdout",
     "output_type": "stream",
     "text": [
      "1211\n"
     ]
    }
   ],
   "source": [
    "print(len(HouseLinkList))"
   ]
  },
  {
   "cell_type": "markdown",
   "metadata": {},
   "source": [
    "## เก็บค่าไว้ในรูปแบบของ pickle"
   ]
  },
  {
   "cell_type": "code",
   "execution_count": 17,
   "metadata": {},
   "outputs": [],
   "source": [
    "with open('HouseLinkList.pkl', 'wb') as f:\n",
    "    pk.dump(HouseLinkList, f)  "
   ]
  },
  {
   "cell_type": "code",
   "execution_count": 18,
   "metadata": {},
   "outputs": [
    {
     "data": {
      "text/plain": [
       "'https://baania.com/en/project/%E0%B9%80%E0%B8%8B%E0%B9%87%E0%B8%99%E0%B8%97%E0%B8%A3%E0%B8%B4%E0%B8%84-%E0%B8%AB%E0%B9%89%E0%B8%A7%E0%B8%A2%E0%B8%82%E0%B8%A7%E0%B8%B2%E0%B8%87-%E0%B8%AA%E0%B9%80%E0%B8%95%E0%B8%8A%E0%B8%B1%E0%B9%88%E0%B8%99?s=search&pid=BKK0605&province=3781&district=4000&ptype=2'"
      ]
     },
     "execution_count": 18,
     "metadata": {},
     "output_type": "execute_result"
    }
   ],
   "source": [
    "HouseLinkList[0]"
   ]
  },
  {
   "cell_type": "code",
   "execution_count": 11,
   "metadata": {},
   "outputs": [
    {
     "data": {
      "text/plain": [
       "'https://baania.com/th/project/%E0%B9%81%E0%B8%9A%E0%B8%87%E0%B8%84%E0%B9%8C%E0%B8%84%E0%B8%AD%E0%B8%81-%E0%B8%AE%E0%B8%AD%E0%B9%84%E0%B8%A3%E0%B8%8B%E0%B8%AD%E0%B8%99-%E0%B8%A3%E0%B8%B1%E0%B8%8A%E0%B8%94%E0%B8%B2-%E0%B8%97%E0%B9%88%E0%B8%B2%E0%B8%9E%E0%B8%A3%E0%B8%B0?s=search&pid=BKK0867&province=3781&district=3839&ptype=2'"
      ]
     },
     "execution_count": 11,
     "metadata": {},
     "output_type": "execute_result"
    }
   ],
   "source": [
    "HouseLinkList[1]"
   ]
  },
  {
   "cell_type": "code",
   "execution_count": 30,
   "metadata": {},
   "outputs": [
    {
     "data": {
      "text/plain": [
       "'https://baania.com/en/project/%E0%B8%A5%E0%B8%B8%E0%B8%A1%E0%B8%9E%E0%B8%B4%E0%B8%99%E0%B8%B5-%E0%B8%9E%E0%B8%B2%E0%B8%A3%E0%B9%8C%E0%B8%84-%E0%B8%9E%E0%B8%AB%E0%B8%A5-32?s=search&pid=BKK4001&province=3781&district=3800&ptype=2'"
      ]
     },
     "execution_count": 30,
     "metadata": {},
     "output_type": "execute_result"
    }
   ],
   "source": [
    "HouseLinkList[2]"
   ]
  },
  {
   "cell_type": "code",
   "execution_count": null,
   "metadata": {},
   "outputs": [],
   "source": []
  }
 ],
 "metadata": {
  "kernelspec": {
   "display_name": "Python 3",
   "language": "python",
   "name": "python3"
  },
  "language_info": {
   "codemirror_mode": {
    "name": "ipython",
    "version": 3
   },
   "file_extension": ".py",
   "mimetype": "text/x-python",
   "name": "python",
   "nbconvert_exporter": "python",
   "pygments_lexer": "ipython3",
   "version": "3.6.4"
  }
 },
 "nbformat": 4,
 "nbformat_minor": 2
}
